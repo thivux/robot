{
 "cells": [
  {
   "cell_type": "code",
   "execution_count": 1,
   "metadata": {},
   "outputs": [
    {
     "name": "stderr",
     "output_type": "stream",
     "text": [
      "\n"
     ]
    }
   ],
   "source": [
    "import numpy as np\n",
    "from gym import spaces\n",
    "import gym\n",
    "import random"
   ]
  },
  {
   "cell_type": "code",
   "execution_count": 8,
   "metadata": {},
   "outputs": [
    {
     "name": "stdout",
     "output_type": "stream",
     "text": [
      "Episode 1, steps: [-3.2177023e-04  1.1942390e+00 -2.1651596e-01 -2.4531128e+00], reward: 1.0, done: True, score: 42.0\n",
      "Episode 2, steps: [ 0.04809765 -0.00338385 -0.2257564  -0.80215794], reward: 1.0, done: True, score: 28.0\n",
      "Episode 3, steps: [ 0.1537286   0.4657819  -0.22268644 -1.2910796 ], reward: 1.0, done: True, score: 32.0\n",
      "Episode 4, steps: [-0.16621234 -0.8349553   0.22290267  1.6782602 ], reward: 1.0, done: True, score: 24.0\n",
      "Episode 5, steps: [-0.20409577 -1.6036949   0.2503764   2.6404967 ], reward: 1.0, done: True, score: 12.0\n",
      "Episode 6, steps: [-0.1478179  -0.7440915   0.21313255  1.398936  ], reward: 1.0, done: True, score: 20.0\n",
      "Episode 7, steps: [-0.16162033 -1.3273565   0.25415033  2.1929533 ], reward: 1.0, done: True, score: 13.0\n",
      "Episode 8, steps: [0.12605248 0.19468406 0.21880382 0.609665  ], reward: 1.0, done: True, score: 47.0\n",
      "Episode 9, steps: [-0.12914364 -1.3922529   0.24586599  2.3241796 ], reward: 1.0, done: True, score: 11.0\n",
      "Episode 10, steps: [-0.21392754 -1.0106968   0.2264829   1.5205232 ], reward: 1.0, done: True, score: 39.0\n"
     ]
    }
   ],
   "source": [
    "env = gym.make(\"CartPole-v1\")\n",
    "\n",
    "episodes = 10\n",
    "for episode in range(1, episodes + 1): \n",
    "    state = env.reset()\n",
    "    done = False\n",
    "    score = 0\n",
    "\n",
    "    while not done: \n",
    "        action = random.choice([0, 1])\n",
    "        steps, reward, done, info = env.step(action)\n",
    "        score += reward\n",
    "        env.render()\n",
    "    \n",
    "    print(f'Episode {episode}, steps: {steps}, reward: {reward}, done: {done}, score: {score}')\n",
    "\n",
    "env.close()"
   ]
  },
  {
   "cell_type": "code",
   "execution_count": 3,
   "metadata": {},
   "outputs": [
    {
     "name": "stdout",
     "output_type": "stream",
     "text": [
      "Requirement already satisfied: pyglet in /home/thivux/miniconda3/envs/robot/lib/python3.9/site-packages (2.0.9)\n",
      "Collecting pygame\n",
      "  Obtaining dependency information for pygame from https://files.pythonhosted.org/packages/0d/5f/8cabf39e038a684253d26abc19ce651ff3aa54b2e326107b83c6c78b5889/pygame-2.5.2-cp39-cp39-manylinux_2_17_x86_64.manylinux2014_x86_64.whl.metadata\n",
      "  Downloading pygame-2.5.2-cp39-cp39-manylinux_2_17_x86_64.manylinux2014_x86_64.whl.metadata (13 kB)\n",
      "Downloading pygame-2.5.2-cp39-cp39-manylinux_2_17_x86_64.manylinux2014_x86_64.whl (14.0 MB)\n",
      "\u001b[2K   \u001b[90m━━━━━━━━━━━━━━━━━━━━━━━━━━━━━━━━━━━━━━━━\u001b[0m \u001b[32m14.0/14.0 MB\u001b[0m \u001b[31m370.3 kB/s\u001b[0m eta \u001b[36m0:00:00\u001b[0m00:01\u001b[0m00:01\u001b[0m\n",
      "\u001b[?25hInstalling collected packages: pygame\n",
      "Successfully installed pygame-2.5.2\n"
     ]
    }
   ],
   "source": [
    "!pip install pyglet pygame"
   ]
  }
 ],
 "metadata": {
  "kernelspec": {
   "display_name": "robot",
   "language": "python",
   "name": "python3"
  },
  "language_info": {
   "codemirror_mode": {
    "name": "ipython",
    "version": 3
   },
   "file_extension": ".py",
   "mimetype": "text/x-python",
   "name": "python",
   "nbconvert_exporter": "python",
   "pygments_lexer": "ipython3",
   "version": "3.9.16"
  },
  "orig_nbformat": 4
 },
 "nbformat": 4,
 "nbformat_minor": 2
}
